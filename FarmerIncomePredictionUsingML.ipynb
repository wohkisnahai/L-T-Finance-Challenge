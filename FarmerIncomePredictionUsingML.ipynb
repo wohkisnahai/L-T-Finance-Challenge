{
 "cells": [
  {
   "cell_type": "code",
   "execution_count": 1,
   "id": "f2af66df-9387-464a-a555-36d96b3e8efa",
   "metadata": {},
   "outputs": [],
   "source": [
    "import pandas as pd\n",
    "import matplotlib.pyplot as plt\n",
    "import seaborn as sns"
   ]
  },
  {
   "cell_type": "code",
   "execution_count": 11,
   "id": "4ff2b276-5c4c-4a58-aec4-0367ddaac4d3",
   "metadata": {},
   "outputs": [],
   "source": [
    "\n",
    "# 1. Load the Excel file and the relevant sheet\n",
    "file_path = r\"C:\\Users\\krish\\Desktop\\L&T_Challenge\\Predicted_Farmer_Income_Sample_.xlsx\"\n",
    "df = pd.read_excel(file_path, sheet_name=\"TestData\")"
   ]
  },
  {
   "cell_type": "code",
   "execution_count": 13,
   "id": "c4d61200-7f12-4318-a7bc-1648bb431ee8",
   "metadata": {},
   "outputs": [],
   "source": [
    "# 2. Clean the 'Target_Variable/Total Income' column:\n",
    "#    - Set numeric values as float\n",
    "#    - Convert all '.', '..', 'put the income in numeric format', '' or any non-numeric to NaN\n",
    "\n",
    "df['Target_Variable/Total Income'] = pd.to_numeric(\n",
    "    df['Target_Variable/Total Income'], errors='coerce')"
   ]
  },
  {
   "cell_type": "code",
   "execution_count": 14,
   "id": "01f36fbb-92b3-4e90-9ac8-0a756fdb11de",
   "metadata": {},
   "outputs": [],
   "source": [
    "# 3. Split into train and test:\n",
    "#    - Train: rows where income is known (notna)\n",
    "#    - Test:  rows where it's missing (na)\n",
    "train = df[df['Target_Variable/Total Income'].notna()].copy()\n",
    "test = df[df['Target_Variable/Total Income'].isna()].copy()"
   ]
  },
  {
   "cell_type": "code",
   "execution_count": 15,
   "id": "012b3392-590a-4d5e-9e6b-64acdd9508ed",
   "metadata": {},
   "outputs": [
    {
     "name": "stdout",
     "output_type": "stream",
     "text": [
      "Train shape: (2, 2)\n",
      "Test shape: (9984, 2)\n",
      "          FarmerID  Target_Variable/Total Income\n",
      "0  576972022499073                      120000.0\n",
      "1  979235081831136                      200000.0\n",
      "           FarmerID  Target_Variable/Total Income\n",
      "2   176490610549774                           NaN\n",
      "3   977021407171384                           NaN\n",
      "4  1334154133262320                           NaN\n",
      "5   232978933363017                           NaN\n",
      "6  1151623140705580                           NaN\n"
     ]
    }
   ],
   "source": [
    "# 4. Display the number of rows in each split\n",
    "print(f\"Train shape: {train.shape}\")\n",
    "print(f\"Test shape: {test.shape}\")\n",
    "print(train.head())\n",
    "print(test.head())"
   ]
  },
  {
   "cell_type": "code",
   "execution_count": null,
   "id": "5c0dfe43-33a5-4b06-b8de-898e596ce9ac",
   "metadata": {},
   "outputs": [],
   "source": []
  }
 ],
 "metadata": {
  "kernelspec": {
   "display_name": "Python 3 (ipykernel)",
   "language": "python",
   "name": "python3"
  },
  "language_info": {
   "codemirror_mode": {
    "name": "ipython",
    "version": 3
   },
   "file_extension": ".py",
   "mimetype": "text/x-python",
   "name": "python",
   "nbconvert_exporter": "python",
   "pygments_lexer": "ipython3",
   "version": "3.13.5"
  }
 },
 "nbformat": 4,
 "nbformat_minor": 5
}
